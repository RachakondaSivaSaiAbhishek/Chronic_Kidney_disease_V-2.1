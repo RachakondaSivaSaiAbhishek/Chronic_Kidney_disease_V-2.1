{
 "cells": [
  {
   "cell_type": "code",
   "execution_count": 1,
   "metadata": {},
   "outputs": [],
   "source": [
    "from flask import Flask, render_template, request,url_for\n",
    "import pickle\n",
    "from sklearn.linear_model import LogisticRegression\n",
    "\n",
    "\n",
    "app = Flask(__name__)\n",
    "\n",
    "@app.route('/')\n",
    "def bean():\n",
    "    return render_template('bean.html')\n"
   ]
  },
  {
   "cell_type": "code",
   "execution_count": 2,
   "metadata": {},
   "outputs": [
    {
     "name": "stdout",
     "output_type": "stream",
     "text": [
      " * Serving Flask app '__main__'\n",
      " * Debug mode: off\n"
     ]
    },
    {
     "name": "stderr",
     "output_type": "stream",
     "text": [
      "WARNING: This is a development server. Do not use it in a production deployment. Use a production WSGI server instead.\n",
      " * Running on http://127.0.0.1:5000\n",
      "Press CTRL+C to quit\n"
     ]
    }
   ],
   "source": [
    "\n",
    "@app.route('/predict',methods=['POST'])\n",
    "def predict():\n",
    "    \n",
    "    if request.method == 'POST':\n",
    "        \n",
    "        age = request.form['age']\n",
    "        bp = request.form['bp']\n",
    "        sg = request.form['sg']\n",
    "        al = request.form['al']\n",
    "        su = request.form['su']\n",
    "        bgr = request.form['bgr']\n",
    "        bu = request.form['bu']\n",
    "        sc = request.form['sc']\n",
    "        sod = request.form['sod']\n",
    "        pot = request.form['pot']\n",
    "        hemo = request.form['hemo']\n",
    "        rc = request.form['rc']\n",
    "        wc = request.form['wc']\n",
    "        rbc_normal = request.form['rbc_normal']\n",
    "        pc_normal = request.form['pc_normal']\n",
    "        pcc_present = request.form['pcc_present']\n",
    "        ba_present = request.form['ba_present']\n",
    "        htn_yes = request.form['htn_yes']\n",
    "        dm_yes = request.form['dm_yes']\n",
    "        cad_yes = request.form['cad_yes']\n",
    "        appet_poor = request.form['appet_poor']\n",
    "        pe_yes = request.form['pe_yes']\n",
    "        ane_yes = request.form['ane_yes']\n",
    "\n",
    "        data=[[float(age),float(bp),float(sg),float(al),float(su),float(bgr),float(bu),float(sc),float(sod),float(pot),float(hemo),float(rc),float(wc),float(rbc_normal),float(pc_normal),float(pcc_present),float(ba_present),float(htn_yes),float(dm_yes),float(cad_yes),float(pe_yes),float(ane_yes)]]\n",
    "        Ir = pickle.load(open('model2.pkl','rb'))\n",
    "        prediction = Ir.predict(data)[0]\n",
    "    return render_template('bean.html', prediction=prediction)\n",
    "\n",
    "if __name__== '__main__':\n",
    "    app.run()"
   ]
  },
  {
   "cell_type": "code",
   "execution_count": null,
   "metadata": {},
   "outputs": [],
   "source": [
    "'''import numpy as np\n",
    "from flask import Flask,request,jsonify,render_template\n",
    "import pickle\n",
    "\n",
    "app=Flask(__name__)\n",
    "model=pickle.load(open('model2.pkl','rb'))\n",
    "\n",
    "@app.route('/')\n",
    "def bean():\n",
    "  return render_template('bean.html')\n",
    "@app.route('/predict',methods=['POST'])\n",
    "def predict():\n",
    "  int_features=[int(x) for x in request.form.values()]\n",
    "  final_features=[np.array(int_features)]\n",
    "  predict = model.predict(final_features)\n",
    "  if predict == 0:\n",
    "    output='disease not found'\n",
    "  else:\n",
    "    output='disease found'\n",
    "  return render_template('/bean.html',prediction_test=' {} for ADPKD'.format(output))\n",
    "   \n",
    "@app.route('/api',methods=['POST'])\n",
    "def api():\n",
    "  data=request.get_json(force=True)\n",
    "  prediction = model.predict([np.array(list(data.values()))])\n",
    "  output=prediction[0]\n",
    "  return jsonify(output)\n",
    "if __name__ == \"__main__\":\n",
    "  app.run(debug=True)\n",
    "  '''"
   ]
  }
 ],
 "metadata": {
  "colab": {
   "provenance": []
  },
  "kernelspec": {
   "display_name": "Python 3",
   "language": "python",
   "name": "python3"
  },
  "language_info": {
   "codemirror_mode": {
    "name": "ipython",
    "version": 3
   },
   "file_extension": ".py",
   "mimetype": "text/x-python",
   "name": "python",
   "nbconvert_exporter": "python",
   "pygments_lexer": "ipython3",
   "version": "3.11.0"
  },
  "vscode": {
   "interpreter": {
    "hash": "23ac3974139f6798e99f9c14080a194e9d11cd4ce238808a57c9bf69288bb677"
   }
  }
 },
 "nbformat": 4,
 "nbformat_minor": 1
}
